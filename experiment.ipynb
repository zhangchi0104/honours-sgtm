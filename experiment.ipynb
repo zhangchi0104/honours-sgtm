{
 "cells": [
  {
   "cell_type": "markdown",
   "metadata": {
    "pycharm": {
     "name": "#%% md\n"
    }
   },
   "source": [
    "# Getting Embeddings"
   ]
  },
  {
   "cell_type": "code",
   "execution_count": 45,
   "metadata": {
    "pycharm": {
     "name": "#%%\n"
    }
   },
   "outputs": [
    {
     "name": "stderr",
     "output_type": "stream",
     "text": [
      "[nltk_data] Error loading stopwords: <urlopen error [Errno 111]\n",
      "[nltk_data]     Connection refused>\n"
     ]
    },
    {
     "data": {
      "text/plain": [
       "False"
      ]
     },
     "execution_count": 45,
     "metadata": {},
     "output_type": "execute_result"
    }
   ],
   "source": [
    "import nltk\n",
    "nltk.download('stopwords')"
   ]
  },
  {
   "cell_type": "code",
   "execution_count": 1,
   "metadata": {
    "collapsed": false,
    "pycharm": {
     "name": "#%%\n"
    }
   },
   "outputs": [
    {
     "name": "stderr",
     "output_type": "stream",
     "text": [
      "Some weights of the model checkpoint at bert-base-uncased were not used when initializing BertModel: ['cls.predictions.transform.LayerNorm.bias', 'cls.predictions.transform.LayerNorm.weight', 'cls.predictions.transform.dense.weight', 'cls.seq_relationship.bias', 'cls.predictions.bias', 'cls.predictions.decoder.weight', 'cls.seq_relationship.weight', 'cls.predictions.transform.dense.bias']\n",
      "- This IS expected if you are initializing BertModel from the checkpoint of a model trained on another task or with another architecture (e.g. initializing a BertForSequenceClassification model from a BertForPreTraining model).\n",
      "- This IS NOT expected if you are initializing BertModel from the checkpoint of a model that you expect to be exactly identical (initializing a BertForSequenceClassification model from a BertForSequenceClassification model).\n"
     ]
    }
   ],
   "source": [
    "from transformers import BertModel, BertTokenizer,BertForPreTraining, BertConfig\n",
    "from tqdm.auto import tqdm\n",
    "import torch\n",
    "import nltk\n",
    "from pathlib import Path\n",
    "import re\n",
    "from scipy.spatial.distance import  cosine\n",
    "import pickle\n",
    "import numpy as np\n",
    "import pandas as pd\n",
    "from joblib import Parallel, delayed\n",
    "DATA_DIR = Path('data')\n",
    "device = torch.device('cuda') if torch.cuda.is_available() else torch.device('cpu')\n",
    "SEEDS = ['finance', 'medicine', 'sports', 'technology']\n",
    "NUM_WORDS_PER_SET = 10\n",
    "\n",
    "tokenizer = BertTokenizer.from_pretrained('bert-base-uncased')\n",
    "model = BertModel.from_pretrained(\"bert-base-uncased\")\n",
    "\n",
    "\n",
    "def get_embeddings(model, tokens, embedding_size=768):\n",
    "    with torch.no_grad():\n",
    "        output = model(**tokens)\n",
    "        embedding = output.last_hidden_state[0][1]\n",
    "        return torch.reshape(embedding, (embedding_size, ))\n"
   ]
  },
  {
   "cell_type": "code",
   "execution_count": 2,
   "metadata": {
    "pycharm": {
     "name": "#%%\n"
    }
   },
   "outputs": [],
   "source": [
    "def get_embeddings_batch(model, tokens, embedding_size=768, batch_size=4):\n",
    "    with torch.no_grad():\n",
    "        output = model(**tokens)\n",
    "        embedding = output.last_hidden_state[:, 1, :]\n",
    "        return embedding\n",
    "\n",
    "\n",
    "def cos_distance_batch(topic, words):\n",
    "    return np.inner(\n",
    "        topic, words) / (np.linalg.norm(topic) * np.linalg.norm(words, axis=1))\n",
    "\n",
    "\n",
    "def job(vocab, topic, tokenizer, model, batch_size=4):\n",
    "    res_col = np.zeros((len(vocab), ))\n",
    "    vocab = list(vocab)\n",
    "    loop = tqdm(range(0, len(vocab), batch_size))\n",
    "    loop.set_description(f\"topic: {topic}\")\n",
    "    topic_token = tokenizer(topic,\n",
    "                            return_tensors='pt',\n",
    "                            padding=True,\n",
    "                            max_length=10,\n",
    "                            truncation=True)\n",
    "    topic_emb = get_embeddings(model, topic_token)\n",
    "    for batch_index in loop:\n",
    "        lo = batch_index\n",
    "        hi = min(batch_index + batch_size, len(vocab))\n",
    "        batch = vocab[batch_index:batch_index + batch_size]\n",
    "        tokens = tokenizer(batch,\n",
    "                           return_tensors='pt',\n",
    "                           padding='max_length',\n",
    "                           max_length=10,\n",
    "                           truncation=True)\n",
    "        # if len(token['input_ids']) > 3:\n",
    "        #     print(f\"WARNING: Word '{word}' is not in BERT's vocabulary\")\n",
    "        word_embs = get_embeddings_batch(model, tokens)\n",
    "        res_col[lo:hi] = cos_distance_batch(topic_emb, word_embs)\n",
    "        # res_col.append(cosine(topic_emb, word_emb))\n",
    "    return res_col"
   ]
  },
  {
   "cell_type": "code",
   "execution_count": null,
   "metadata": {
    "pycharm": {
     "name": "#%%\n"
    }
   },
   "outputs": [],
   "source": [
    "token = tokenizer(\"medicine\", return_tensors='pt', truncation=True)\n",
    "print(token.input_ids.shape)\n",
    "out = model(**token)\n",
    "out.last_hidden_state.shape"
   ]
  },
  {
   "cell_type": "code",
   "execution_count": null,
   "metadata": {
    "collapsed": false,
    "pycharm": {
     "name": "#%%\n"
    }
   },
   "outputs": [],
   "source": [
    "tokenizer('[MASK]')"
   ]
  },
  {
   "cell_type": "code",
   "execution_count": null,
   "metadata": {
    "collapsed": false,
    "pycharm": {
     "name": "#%%\n"
    }
   },
   "outputs": [],
   "source": [
    "cat_emb = get_embeddings(cat_outputs)\n",
    "hello_emb = get_embeddings(hello_outputs)\n",
    "hi_emb = get_embeddings(hi_outputs)\n",
    "\n",
    "print(cosine(hi_emb, hello_emb))\n",
    "print(cosine(hi_emb, cat_emb))"
   ]
  },
  {
   "cell_type": "code",
   "execution_count": null,
   "metadata": {
    "collapsed": false,
    "pycharm": {
     "name": "#%%\n"
    }
   },
   "outputs": [],
   "source": [
    "cosine([1], [0.1])"
   ]
  },
  {
   "cell_type": "markdown",
   "metadata": {
    "collapsed": false,
    "pycharm": {
     "name": "#%% md\n"
    }
   },
   "source": [
    "# Building vocab for the corpus"
   ]
  },
  {
   "cell_type": "code",
   "execution_count": null,
   "metadata": {
    "collapsed": false,
    "pycharm": {
     "name": "#%%\n"
    }
   },
   "outputs": [],
   "source": [
    "df = pd.read_csv(Path('data') / 'content_cleaned.txt')\n",
    "df.head()"
   ]
  },
  {
   "cell_type": "code",
   "execution_count": null,
   "metadata": {
    "collapsed": false,
    "pycharm": {
     "name": "#%%\n"
    }
   },
   "outputs": [],
   "source": [
    "\n",
    "stop_words = nltk.corpus.stopwords.words('english')"
   ]
  },
  {
   "cell_type": "code",
   "execution_count": null,
   "metadata": {
    "collapsed": false,
    "pycharm": {
     "name": "#%%\n"
    }
   },
   "outputs": [],
   "source": [
    "def vocab_preprocess(row, lemmatize=True):\n",
    "    from nltk.stem import WordNetLemmatizer\n",
    "    row = row.lower().strip()\n",
    "    words = row.split(' ')\n",
    "    # Remove stop words\n",
    "    words = [word for word in words if word not in stop_words]\n",
    "    res = {}\n",
    "    for word in words:\n",
    "        count = res.get(word, 0)\n",
    "        count += 1\n",
    "        res[word] = count\n",
    "    if (lemmatize):\n",
    "        words = [lemmatizer.lemmatize(word) for word in words]\n",
    "\n",
    "    return res"
   ]
  },
  {
   "cell_type": "code",
   "execution_count": null,
   "metadata": {
    "collapsed": false,
    "pycharm": {
     "name": "#%%\n"
    }
   },
   "outputs": [],
   "source": [
    "MIN_COUNT=3\n",
    "f = open('data/content_cleaned.txt')\n",
    "lines = f.readlines()\n",
    "f.close()\n",
    "data = []\n",
    "vocab = {}\n",
    "for i, row in tqdm(enumerate(lines)):\n",
    "    freq = vocab_preprocess(row, False)\n",
    "    for _word, _count in freq.items():\n",
    "        count = vocab.get(_word, 0) + _count\n",
    "        vocab[_word] = count\n",
    "uncommon_words = []\n",
    "for word, count in tqdm(vocab.items()):\n",
    "    if count < MIN_COUNT:\n",
    "       uncommon_words.append(word)\n",
    "print(len(uncommon_words))\n",
    "print(len(vocab.keys()))\n",
    "for word in uncommon_words:\n",
    "    del vocab[word]\n",
    "print(len(vocab.keys()))\n",
    "with open(DATA_DIR / \"vocab\" / \"global_vocab_no_lemmatize.pkl\", \"wb\") as f:\n",
    "    pickle.dump(vocab, f)"
   ]
  },
  {
   "cell_type": "markdown",
   "metadata": {
    "collapsed": false,
    "pycharm": {
     "name": "#%% md\n"
    }
   },
   "source": [
    "# Build global rankings"
   ]
  },
  {
   "cell_type": "code",
   "execution_count": null,
   "metadata": {
    "collapsed": false,
    "pycharm": {
     "name": "#%%\n"
    }
   },
   "outputs": [],
   "source": [
    "vocab = None\n",
    "with open(DATA_DIR / \"vocab\" / \"global_vocab_no_lemmatize.pkl\", \"rb\") as f:\n",
    "    vocab = pickle.load(f)\n",
    "print(len(vocab))"
   ]
  },
  {
   "cell_type": "code",
   "execution_count": null,
   "metadata": {
    "collapsed": false,
    "pycharm": {
     "name": "#%%\n"
    }
   },
   "outputs": [],
   "source": [
    "\n",
    "topic_embeddings = []\n",
    "cols = []\n",
    "for seed in SEEDS:\n",
    "    cols.append(job(vocab, seed, tokenizer, model, batch_size=128))\n"
   ]
  },
  {
   "cell_type": "code",
   "execution_count": null,
   "metadata": {
    "collapsed": false,
    "pycharm": {
     "name": "#%%\n"
    }
   },
   "outputs": [],
   "source": [
    "arr = np.array(cols)\n",
    "res_dict = {\n",
    "    '_vocab': list(vocab),\n",
    "}\n",
    "for i, topic in enumerate(SEEDS):\n",
    "    print(arr[i].shape)\n",
    "    res_dict[topic] = arr[i]\n",
    "res_df = pd.DataFrame(res_dict)\n",
    "res_df = res_df.set_index(['_vocab'])\n",
    "res_df.to_csv('./results/global_cos_similarity.csv')\n",
    "res_df.sort_values('finance', ascending=False).head(10)"
   ]
  },
  {
   "cell_type": "code",
   "execution_count": null,
   "metadata": {
    "collapsed": false,
    "pycharm": {
     "name": "#%%\n"
    }
   },
   "outputs": [],
   "source": [
    "df = pd.read_csv('./results/global_cos_similarity.csv', index_col='_vocab')\n",
    "for seed in SEEDS:\n",
    "    line = df.sort_values(seed, ascending=False).head(4).index[1::]\n",
    "    print(\" \".join(line))"
   ]
  },
  {
   "cell_type": "code",
   "execution_count": null,
   "metadata": {
    "collapsed": false,
    "pycharm": {
     "name": "#%%\n"
    }
   },
   "outputs": [],
   "source": [
    "res_df.sort_values(by='technology', ascending=False).head(10)"
   ]
  },
  {
   "cell_type": "markdown",
   "metadata": {
    "collapsed": false,
    "pycharm": {
     "name": "#%% md\n"
    }
   },
   "source": [
    "# Initialize word sets from $e$"
   ]
  },
  {
   "cell_type": "code",
   "execution_count": null,
   "metadata": {
    "collapsed": false,
    "pycharm": {
     "name": "#%%\n"
    }
   },
   "outputs": [],
   "source": [
    "tokenizer = BertTokenizer.from_pretrained('bert-base-uncased')\n",
    "model = BertModel.from_pretrained(\"bert-base-uncased\")\n",
    "res_df = pd.read_csv('global_cos_similarity.csv')\n",
    "res_df = res_df.set_index(['_vocab'])\n",
    "word_set = {}\n",
    "added_words = set()\n",
    "for seed in SEEDS:\n",
    "    word_set[seed] = []\n",
    "    col = res_df[seed]\n",
    "    sorted_col = col.sort_values()[::-1]\n",
    "    i = 0\n",
    "    for word, _ in sorted_col.iteritems():\n",
    "        if i == NUM_WORDS_PER_SET + 1:\n",
    "            break\n",
    "        if word not in added_words:\n",
    "            word_set[seed].append(word)\n",
    "            added_words.add(word)\n",
    "            i += 1\n",
    "\n",
    "word_set_df = pd.DataFrame(word_set)\n",
    "word_set_df.head()"
   ]
  },
  {
   "cell_type": "code",
   "execution_count": null,
   "metadata": {
    "collapsed": false,
    "pycharm": {
     "name": "#%%\n"
    }
   },
   "outputs": [],
   "source": [
    "for topic, words in word_set.items():\n",
    "    print(f\"{' '.join(words[1:4])}\")"
   ]
  },
  {
   "cell_type": "markdown",
   "metadata": {
    "collapsed": false,
    "pycharm": {
     "name": "#%% md\n"
    }
   },
   "source": [
    "# Local Knowlege using pretrained BERT"
   ]
  },
  {
   "cell_type": "code",
   "execution_count": null,
   "metadata": {
    "collapsed": false,
    "pycharm": {
     "name": "#%%\n"
    }
   },
   "outputs": [],
   "source": [
    "# Prepare datasets\n",
    "from transformers import BertTokenizer, DataCollatorForLanguageModeling\n",
    "from datasets import load_dataset, concatenate_datasets\n",
    "tokenizer = BertTokenizer.from_pretrained('bert-base-uncased')\n",
    "data_collator = DataCollatorForLanguageModeling(\n",
    "    tokenizer=tokenizer,\n",
    "    mlm=True,\n",
    "    mlm_probability=0.15,\n",
    ")\n",
    "dataset = load_dataset('ag_news')"
   ]
  },
  {
   "cell_type": "code",
   "execution_count": null,
   "metadata": {
    "collapsed": false,
    "pycharm": {
     "name": "#%%\n"
    }
   },
   "outputs": [],
   "source": [
    "concatenate_datasets([dataset['train'], dataset['test']], axis=0)"
   ]
  },
  {
   "cell_type": "code",
   "execution_count": null,
   "metadata": {
    "collapsed": false,
    "pycharm": {
     "name": "#%%\n"
    }
   },
   "outputs": [],
   "source": [
    "%%bash\n",
    "\n",
    "python3 scripts/train.py \\\n",
    "    -o ./models \\\n",
    "    -t ./data/tokens/tokens-pretrained-30522.pkl \\\n",
    "    -n bert-pretrined-30522 "
   ]
  },
  {
   "cell_type": "markdown",
   "metadata": {
    "collapsed": false,
    "pycharm": {
     "name": "#%% md\n"
    }
   },
   "source": [
    "# Compute Local Cosine similarity"
   ]
  },
  {
   "cell_type": "code",
   "execution_count": null,
   "metadata": {
    "collapsed": false,
    "pycharm": {
     "name": "#%%\n"
    }
   },
   "outputs": [],
   "source": [
    "model = BertModel.from_pretrained('models/bert-pretrained-pretrained-30522-2022-06-22-10-34/checkpoint-10000')\n",
    "model.eval()\n",
    "tokenizer = BertTokenizer.from_pretrained('bert-base-uncased')"
   ]
  },
  {
   "cell_type": "code",
   "execution_count": null,
   "metadata": {
    "collapsed": false,
    "pycharm": {
     "name": "#%%\n"
    }
   },
   "outputs": [],
   "source": [
    "with open('data/vocab/global_vocab_no_lemmatize.pkl', 'rb') as f:\n",
    "    vocab = pickle.load(f)\n",
    "len(vocab)"
   ]
  },
  {
   "cell_type": "code",
   "execution_count": null,
   "metadata": {
    "collapsed": false,
    "pycharm": {
     "name": "#%%\n"
    }
   },
   "outputs": [],
   "source": [
    "def get_embeddings_batch(model, tokens, embedding_size=768, batch_size=4):\n",
    "    with torch.no_grad():\n",
    "        output = model(**tokens)\n",
    "        embedding = output.last_hidden_state[:, 1, :]\n",
    "        return embedding\n",
    "\n",
    "\n",
    "def cos_distance_batch(topic, words):\n",
    "    return np.inner(topic, words) / (np.linalg.norm(topic) * np.linalg.norm(words, axis=1))\n",
    "\n",
    "\n",
    "def job(vocab, topic, tokenizer, model, batch_size=4):\n",
    "    res_col = np.zeros((len(vocab), ))\n",
    "    vocab = list(vocab)\n",
    "    loop = tqdm(range(0, len(vocab), batch_size))\n",
    "    loop.set_description(f\"topic: {topic}\")\n",
    "    topic_token = tokenizer(topic, return_tensors='pt', padding=True, max_length=10, truncation=True)\n",
    "    topic_emb = get_embeddings(model, topic_token)\n",
    "    for batch_index in loop:\n",
    "        lo = batch_index\n",
    "        hi = min(batch_index + batch_size, len(vocab))\n",
    "        batch = vocab[batch_index:batch_index + batch_size]\n",
    "        tokens = tokenizer(batch, return_tensors='pt', padding='max_length', max_length=10, truncation=True)\n",
    "        # if len(token['input_ids']) > 3:\n",
    "        #     print(f\"WARNING: Word '{word}' is not in BERT's vocabulary\")\n",
    "        word_embs = get_embeddings_batch(model, tokens)\n",
    "        res_col[lo:hi] = cos_distance_batch(topic_emb, word_embs)\n",
    "        # res_col.append(cosine(topic_emb, word_emb))\n",
    "    return res_col"
   ]
  },
  {
   "cell_type": "code",
   "execution_count": null,
   "metadata": {
    "collapsed": false,
    "pycharm": {
     "name": "#%%\n"
    }
   },
   "outputs": [],
   "source": [
    "res = []\n",
    "for topic in SEEDS:\n",
    "    res_col = job(vocab, topic, tokenizer, model, batch_size=256)\n",
    "    res.append(res_col)"
   ]
  },
  {
   "cell_type": "code",
   "execution_count": null,
   "metadata": {
    "collapsed": false,
    "pycharm": {
     "name": "#%%\n"
    }
   },
   "outputs": [],
   "source": [
    "\n",
    "arr = np.array(res)\n",
    "arr = arr.T\n",
    "res_dict = {    \n",
    "    '_vocab': list(vocab),\n",
    "}\n",
    "for i, topic in enumerate(SEEDS):\n",
    "    res_dict[topic] = arr[:, i]\n",
    "res_df = pd.DataFrame(res_dict)\n",
    "res_df = res_df.set_index(['_vocab'])\n",
    "res_df.to_csv('local_embeddings_bert-pretrained-pretrained.csv')"
   ]
  },
  {
   "cell_type": "code",
   "execution_count": null,
   "metadata": {
    "collapsed": false,
    "pycharm": {
     "name": "#%%\n"
    }
   },
   "outputs": [],
   "source": [
    "res_df = pd.read_csv('./local_embeddings_bert-pretrained-pretrained.csv', index_col='_vocab')\n",
    "res_df.sort_values('finance', ascending=False).head(10)"
   ]
  },
  {
   "cell_type": "code",
   "execution_count": null,
   "metadata": {
    "collapsed": false,
    "pycharm": {
     "name": "#%%\n"
    }
   },
   "outputs": [],
   "source": [
    "# BERTopic"
   ]
  },
  {
   "cell_type": "code",
   "execution_count": null,
   "metadata": {
    "collapsed": false,
    "pycharm": {
     "name": "#%%\n"
    }
   },
   "outputs": [],
   "source": [
    "from bertopic import BERTopic\n",
    "\n",
    "seeds = np.array([SEEDS]).T.tolist()\n",
    "topic_model = BERTopic(seed_topic_list=seeds)\n",
    "docs = pd.read_csv(DATA_DIR / 'dataset.csv')['description']\n",
    "topic_model.fit_transform(docs)"
   ]
  },
  {
   "cell_type": "code",
   "execution_count": null,
   "metadata": {
    "collapsed": false,
    "pycharm": {
     "name": "#%%\n"
    }
   },
   "outputs": [],
   "source": [
    "similar_topics, similarity = topic_model.find_topics(\"finance\", top_n=5)\n",
    "for i, topic in enumerate(similar_topics):\n",
    "    print(topic_model.get_topic(topic)[0][0], similarity[i])"
   ]
  },
  {
   "cell_type": "markdown",
   "metadata": {
    "collapsed": false,
    "pycharm": {
     "name": "#%% md\n"
    }
   },
   "source": [
    "# CatE\n",
    "**kwown issue**: Seg Fault when seed words > 3"
   ]
  },
  {
   "cell_type": "code",
   "execution_count": 4,
   "metadata": {
    "collapsed": false,
    "pycharm": {
     "name": "#%%\n"
    }
   },
   "outputs": [],
   "source": [
    "import pandas as pd\n",
    "\n",
    "local_emb_vocab_df = pd.read_csv(\n",
    "    'results/CatE/2022-07-07-12-43/emb_seeds_w.txt',\n",
    "    sep=' ',\n",
    "    skiprows=[0],\n",
    "    index_col=0,\n",
    "    header=None)\n",
    "local_emb_vocab_df.dropna(axis=1, inplace=True)\n",
    "\n",
    "local_emb_topic_df = pd.read_csv(\n",
    "    'results/CatE/2022-07-07-12-43/emb_seeds_t.txt',\n",
    "    sep=' ',\n",
    "    skiprows=[0],\n",
    "    index_col=0,\n",
    "    header=None)\n",
    "local_emb_topic_df.dropna(axis=1, inplace=True)\n"
   ]
  },
  {
   "cell_type": "code",
   "execution_count": 5,
   "metadata": {
    "collapsed": false,
    "pycharm": {
     "name": "#%%\n"
    }
   },
   "outputs": [],
   "source": [
    "def compute_cate_cos_similarity(vocab, vocab_embs, topic_emb, topic, batch_size=32, show_progress=True):\n",
    "    res_col = np.zeros((len(vocab), ))\n",
    "    loop = range(0, len(vocab), batch_size)\n",
    "    if show_progress:\n",
    "        loop = tqdm(loop)\n",
    "        loop.set_description(f\"topic: {topic}\")\n",
    "    for batch_index in loop:\n",
    "        lo = batch_index\n",
    "        hi = min(batch_index + batch_size, len(vocab))\n",
    "\n",
    "        batch = vocab[lo:hi]\n",
    "        batch_embs = vocab_embs.loc[batch, :]\n",
    "        res_col[lo:hi] = cos_distance_batch(topic_emb, batch_embs)\n",
    "        # res_col.append(cosine(topic_emb, word_emb))\n",
    "    return res_col"
   ]
  },
  {
   "cell_type": "code",
   "execution_count": 6,
   "metadata": {
    "collapsed": false,
    "pycharm": {
     "name": "#%%\n"
    }
   },
   "outputs": [
    {
     "name": "stdout",
     "output_type": "stream",
     "text": [
      "1\n"
     ]
    }
   ],
   "source": [
    "vocab_f = open('./data/vocab/global_vocab_no_lemmatize.pkl', 'rb')\n",
    "vocab = pickle.load(vocab_f)\n",
    "vocab_f.close()\n",
    "not_in_vocab_words = []\n",
    "for word in vocab.keys():\n",
    "    if word not in local_emb_vocab_df.index:\n",
    "        not_in_vocab_words.append(word)\n",
    "print(len(not_in_vocab_words))\n",
    "for word in not_in_vocab_words:\n",
    "    del vocab[word]\n",
    "for word in local_emb_vocab_df.index:\n",
    "    if word not in vocab:\n",
    "        local_emb_vocab_df =  local_emb_vocab_df.drop(word, axis=0)"
   ]
  },
  {
   "cell_type": "code",
   "execution_count": 7,
   "metadata": {
    "collapsed": false,
    "pycharm": {
     "name": "#%%\n"
    }
   },
   "outputs": [],
   "source": [
    "res = {}\n",
    "res['_vocab'] = vocab.keys()\n",
    "for topic in local_emb_topic_df.index:\n",
    "    topic_emb = local_emb_topic_df.loc[topic, :]\n",
    "    res_col = compute_cate_cos_similarity(list(vocab.keys()), local_emb_vocab_df, topic_emb, topic, show_progress=False)\n",
    "    res[topic] = res_col\n"
   ]
  },
  {
   "cell_type": "code",
   "execution_count": 8,
   "metadata": {
    "collapsed": false,
    "pycharm": {
     "name": "#%%\n"
    }
   },
   "outputs": [],
   "source": [
    "res_df = pd.DataFrame(res)\n",
    "res_df = res_df.set_index(['_vocab'])\n",
    "res_df.to_csv('./results/CatE/2022-07-07-12-43/cate_local_embeddings.csv')"
   ]
  },
  {
   "cell_type": "markdown",
   "metadata": {
    "collapsed": false,
    "pycharm": {
     "name": "#%% md\n"
    }
   },
   "source": [
    "# Compute Ensemble ranking [Proposed]\n",
    "Which does not work as expected -> CatE has different embeddings for the same word in topic and vocab"
   ]
  },
  {
   "cell_type": "code",
   "execution_count": 7,
   "metadata": {
    "collapsed": false,
    "pycharm": {
     "name": "#%%\n"
    }
   },
   "outputs": [],
   "source": [
    "import pandas as pd\n",
    "import numpy as np\n",
    "from tqdm.auto import tqdm\n",
    "local_emb_vocab_df = pd.read_csv(\n",
    "    'results/CatE/2022-07-07-12-43/emb_seeds_w.txt',\n",
    "    sep=' ',\n",
    "    skiprows=[0],\n",
    "    index_col=0,\n",
    "    header=None)\n",
    "local_emb_vocab_df.dropna(axis=1, inplace=True)\n",
    "\n",
    "local_emb_topic_df = pd.read_csv(\n",
    "    'results/CatE/2022-07-07-12-43/emb_seeds_t.txt',\n",
    "    sep=' ',\n",
    "    skiprows=[0],\n",
    "    index_col=0,\n",
    "    header=None)\n",
    "local_emb_topic_df.dropna(axis=1, inplace=True)"
   ]
  },
  {
   "cell_type": "code",
   "execution_count": 8,
   "metadata": {
    "collapsed": false,
    "pycharm": {
     "name": "#%%\n"
    }
   },
   "outputs": [
    {
     "data": {
      "application/vnd.jupyter.widget-view+json": {
       "model_id": "4ce98efc9f8d445fb862ff11149e2c3e",
       "version_major": 2,
       "version_minor": 0
      },
      "text/plain": [
       "  0%|          | 0/26022 [00:00<?, ?it/s]"
      ]
     },
     "metadata": {},
     "output_type": "display_data"
    },
    {
     "ename": "NameError",
     "evalue": "name 'cos_distance_batch' is not defined",
     "output_type": "error",
     "traceback": [
      "\u001b[0;31m---------------------------------------------------------------------------\u001b[0m",
      "\u001b[0;31mNameError\u001b[0m                                 Traceback (most recent call last)",
      "\u001b[1;32m/home/alexzhang/code/github.com/zhangchi0104/honours-sgtm/experiment.ipynb Cell 45'\u001b[0m in \u001b[0;36m<cell line: 9>\u001b[0;34m()\u001b[0m\n\u001b[1;32m      <a href='vscode-notebook-cell://ssh-remote%2Bhome-desktop/home/alexzhang/code/github.com/zhangchi0104/honours-sgtm/experiment.ipynb#ch0000044vscode-remote?line=6'>7</a>\u001b[0m         df\u001b[39m.\u001b[39mloc[word, :] \u001b[39m=\u001b[39m res_row\n\u001b[1;32m      <a href='vscode-notebook-cell://ssh-remote%2Bhome-desktop/home/alexzhang/code/github.com/zhangchi0104/honours-sgtm/experiment.ipynb#ch0000044vscode-remote?line=7'>8</a>\u001b[0m     \u001b[39mreturn\u001b[39;00m df\n\u001b[0;32m----> <a href='vscode-notebook-cell://ssh-remote%2Bhome-desktop/home/alexzhang/code/github.com/zhangchi0104/honours-sgtm/experiment.ipynb#ch0000044vscode-remote?line=8'>9</a>\u001b[0m res \u001b[39m=\u001b[39m compute_vocab_cos_similarity(local_emb_vocab_df)\n\u001b[1;32m     <a href='vscode-notebook-cell://ssh-remote%2Bhome-desktop/home/alexzhang/code/github.com/zhangchi0104/honours-sgtm/experiment.ipynb#ch0000044vscode-remote?line=9'>10</a>\u001b[0m res\u001b[39m.\u001b[39mto_csv(\u001b[39m'\u001b[39m\u001b[39mresults/CatE/2022-07-07-12-43/cate_cos_similarities.csv\u001b[39m\u001b[39m'\u001b[39m)\n",
      "\u001b[1;32m/home/alexzhang/code/github.com/zhangchi0104/honours-sgtm/experiment.ipynb Cell 45'\u001b[0m in \u001b[0;36mcompute_vocab_cos_similarity\u001b[0;34m(emb)\u001b[0m\n\u001b[1;32m      <a href='vscode-notebook-cell://ssh-remote%2Bhome-desktop/home/alexzhang/code/github.com/zhangchi0104/honours-sgtm/experiment.ipynb#ch0000044vscode-remote?line=3'>4</a>\u001b[0m \u001b[39mfor\u001b[39;00m word \u001b[39min\u001b[39;00m tqdm(emb\u001b[39m.\u001b[39mindex):\n\u001b[1;32m      <a href='vscode-notebook-cell://ssh-remote%2Bhome-desktop/home/alexzhang/code/github.com/zhangchi0104/honours-sgtm/experiment.ipynb#ch0000044vscode-remote?line=4'>5</a>\u001b[0m     topic_emb \u001b[39m=\u001b[39m emb\u001b[39m.\u001b[39mloc[word, :]\n\u001b[0;32m----> <a href='vscode-notebook-cell://ssh-remote%2Bhome-desktop/home/alexzhang/code/github.com/zhangchi0104/honours-sgtm/experiment.ipynb#ch0000044vscode-remote?line=5'>6</a>\u001b[0m     res_row \u001b[39m=\u001b[39m cos_distance_batch(topic_emb, emb)\n\u001b[1;32m      <a href='vscode-notebook-cell://ssh-remote%2Bhome-desktop/home/alexzhang/code/github.com/zhangchi0104/honours-sgtm/experiment.ipynb#ch0000044vscode-remote?line=6'>7</a>\u001b[0m     df\u001b[39m.\u001b[39mloc[word, :] \u001b[39m=\u001b[39m res_row\n\u001b[1;32m      <a href='vscode-notebook-cell://ssh-remote%2Bhome-desktop/home/alexzhang/code/github.com/zhangchi0104/honours-sgtm/experiment.ipynb#ch0000044vscode-remote?line=7'>8</a>\u001b[0m \u001b[39mreturn\u001b[39;00m df\n",
      "\u001b[0;31mNameError\u001b[0m: name 'cos_distance_batch' is not defined"
     ]
    }
   ],
   "source": [
    "def compute_vocab_cos_similarity(emb):\n",
    "    out_shape = (emb.shape[0], emb.shape[0])\n",
    "    df = pd.DataFrame(np.zeros((out_shape)), index=emb.index, columns=emb.index)\n",
    "    for word in tqdm(emb.index):\n",
    "        topic_emb = emb.loc[word, :]\n",
    "        res_row = cos_distance_batch(topic_emb, emb)\n",
    "        df.loc[word, :] = res_row\n",
    "    return df\n",
    "res = compute_vocab_cos_similarity(local_emb_vocab_df)\n",
    "res.to_csv('results/CatE/2022-07-07-12-43/cate_cos_similarities.csv')"
   ]
  },
  {
   "cell_type": "code",
   "execution_count": null,
   "metadata": {
    "collapsed": false,
    "pycharm": {
     "name": "#%%\n"
    }
   },
   "outputs": [],
   "source": [
    "res.loc['accounting', 'unumprovident']"
   ]
  },
  {
   "cell_type": "code",
   "execution_count": null,
   "metadata": {
    "collapsed": false,
    "pycharm": {
     "name": "#%%\n"
    }
   },
   "outputs": [],
   "source": [
    "cosine(local_emb_vocab_df.loc['accounting', :], local_emb_topic_df.loc['accounting', :])"
   ]
  },
  {
   "cell_type": "markdown",
   "metadata": {
    "collapsed": false,
    "pycharm": {
     "name": "#%% md\n"
    }
   },
   "source": [
    "# Compute emsemble ranking [CatE]"
   ]
  },
  {
   "cell_type": "code",
   "execution_count": null,
   "metadata": {
    "collapsed": false,
    "pycharm": {
     "name": "#%%\n"
    }
   },
   "outputs": [],
   "source": [
    "import pandas as pd\n",
    "import numpy as np\n",
    "from sklearn.preprocessing import MinMaxScaler\n",
    "global_cos_df = pd.read_csv('./results/global_cos_similarity.csv', index_col=0)\n",
    "local_cos_df = pd.read_csv('./results/cate_local_embeddings.csv', index_col=0)\n",
    "# min_max_scalar\n"
   ]
  },
  {
   "cell_type": "code",
   "execution_count": null,
   "metadata": {
    "collapsed": false,
    "pycharm": {
     "name": "#%%\n"
    }
   },
   "outputs": [],
   "source": [
    "def ensemble_ranking(score_g, score_l, rho):\n",
    "    exponent = 1 / rho\n",
    "    base = 0.5 * np.power(1/score_g, rho) + 0.5 * np.power(1/score_l, rho) \n",
    "    return 1/np.power(base, exponent)\n",
    "\n",
    "def scale_data(data):\n",
    "    scaler = MinMaxScaler()\n",
    "    return scaler.fit_transform(data)\n",
    "\n",
    "def compute_vocab_ensemble_rankings(score_l_df, score_g_df, vocab, rho=1): \n",
    "    raw = np.zeros((len(vocab), score_l_df.shape[1])).astype(np.double)\n",
    "    res = pd.DataFrame(raw, index=vocab, columns=score_g_df.columns)\n",
    "    for topic_idx in range(score_l_df.shape[1]):\n",
    "        score_l = score_l_df.loc[vocab, score_l_df.columns[topic_idx]]\n",
    "        score_g = score_g_df.loc[vocab, score_g_df.columns[topic_idx]]\n",
    "        res.iloc[:, topic_idx] = ensemble_ranking(score_l, score_g, rho)\n",
    "    return res\n",
    "s_global_cos_df = scale_data(global_cos_df)\n",
    "local_cos_df.loc[:, :] = scale_data(local_cos_df)\n",
    "global_cos_df.loc[:, :] = scale_data(global_cos_df)\n",
    "res = compute_vocab_ensemble_rankings(local_cos_df, global_cos_df, local_cos_df.index)\n",
    "res['finance'].sort_values(ascending=False)\n",
    "res.to_csv('./results/ensemble/cate_ensemble_rankings.csv') "
   ]
  },
  {
   "cell_type": "markdown",
   "metadata": {
    "collapsed": false,
    "pycharm": {
     "name": "#%% md\n"
    }
   },
   "source": [
    "# Compute emsemble ranking [BERT-pretrained]"
   ]
  },
  {
   "cell_type": "code",
   "execution_count": null,
   "metadata": {
    "collapsed": false,
    "pycharm": {
     "name": "#%%\n"
    }
   },
   "outputs": [],
   "source": [
    "import pandas as pd\n",
    "import numpy as np"
   ]
  },
  {
   "cell_type": "code",
   "execution_count": null,
   "metadata": {
    "collapsed": false,
    "pycharm": {
     "name": "#%%\n"
    }
   },
   "outputs": [],
   "source": [
    "global_cos_df = pd.read_csv('./results/global_cos_similarities.csv', index_col=0)\n",
    "local_cos_df = pd.read_csv('./results/bert/bert-pretrained.csv', index_col=0)"
   ]
  },
  {
   "cell_type": "code",
   "execution_count": null,
   "metadata": {
    "collapsed": false,
    "pycharm": {
     "name": "#%%\n"
    }
   },
   "outputs": [],
   "source": [
    "def ensemble_ranking(score_g, score_l, rho):\n",
    "    exponent = 1 / rho\n",
    "    base = 0.4 * np.power(1/score_g, rho) + 0.6 * np.power(1/score_l, rho) \n",
    "    return 1/np.power(base, exponent)\n",
    "\n",
    "def compute_vocab_ensemble_rankings(score_l_df, score_g_df, vocab, rho=0.5): \n",
    "    raw = np.zeros((len(vocab), score_l_df.shape[1])).astype(np.double)\n",
    "    res = pd.DataFrame(raw, index=vocab, columns=score_g_df.columns)\n",
    "    for topic_idx in range(score_l_df.shape[1]):\n",
    "        score_l = score_l_df.loc[vocab, score_l_df.columns[topic_idx]]\n",
    "        score_g = score_g_df.loc[vocab, score_g_df.columns[topic_idx]]\n",
    "        res.iloc[:, topic_idx] = ensemble_ranking(score_l, score_g, rho)\n",
    "    return res\n",
    "res = compute_vocab_ensemble_rankings(global_cos_df, local_cos_df, local_cos_df.index)\n",
    "res['finance'].sort_values(ascending=False)\n"
   ]
  },
  {
   "cell_type": "markdown",
   "metadata": {
    "collapsed": false,
    "pycharm": {
     "name": "#%% md\n"
    }
   },
   "source": [
    "# Build occurance matrix"
   ]
  },
  {
   "cell_type": "code",
   "execution_count": null,
   "metadata": {
    "collapsed": false,
    "pycharm": {
     "name": "#%%\n"
    }
   },
   "outputs": [],
   "source": [
    "import pickle\n",
    "import pandas as pd\n",
    "import numpy as np \n",
    "from tqdm.auto import tqdm\n",
    "with open('./data/vocab/global_vocab_no_lemmatize.pkl', 'rb') as f:\n",
    "    vocab = pickle.load(f)\n",
    "data = np.zeros((len(vocab), len(vocab)))\n",
    "cooccur = pd.DataFrame(columns=vocab.keys(), index=vocab.keys(), data=data)\n",
    "with open('./data/content_cleaned.txt') as f:\n",
    "    lines =  f.readlines()\n",
    "    for line in tqdm(lines):\n",
    "        words = [word for word in line.split(' ') if word in vocab.keys()]\n",
    "        for word_x in words: \n",
    "            for word_y in words:\n",
    "                if word_x != word_y:\n",
    "                    cooccur.loc[word_x, word_y] += 1\n",
    "\n"
   ]
  },
  {
   "cell_type": "code",
   "execution_count": 19,
   "metadata": {
    "collapsed": false,
    "pycharm": {
     "name": "#%%\n"
    }
   },
   "outputs": [
    {
     "name": "stdout",
     "output_type": "stream",
     "text": [
      "{'sports', 'technology', 'sport', 'finance', 'sportsmen', 'medicine'}\n",
      "34\n",
      "====DISTINCTIVENESS====\n",
      "\t<SUM>: 0.925\n",
      "\t<SEMANTICALLY DISTINCT>: 0.85\n"
     ]
    },
    {
     "data": {
      "text/plain": [
       "(0.925, 0.85)"
      ]
     },
     "execution_count": 19,
     "metadata": {},
     "output_type": "execute_result"
    }
   ],
   "source": [
    "import json\n",
    "import nltk\n",
    "def compute_distinctiveness(word_sets):\n",
    "    words = list(word_sets.values())\n",
    "    topics = list(word_sets.keys())\n",
    "    words = [set(v) for v in words]\n",
    "    total_items = 0\n",
    "    unique_words = set()\n",
    "    words_to_remove = set()\n",
    "    lemmatizer = nltk.stem.WordNetLemmatizer()\n",
    "    semantically_unique_words = set()\n",
    "    for s, _ in zip(words, topics):\n",
    "        total_items += len(s)\n",
    "        unique_words = unique_words.union(s)\n",
    "    distinctiveness = len(unique_words) / total_items\n",
    "    for word in unique_words:\n",
    "        for topic in topics:\n",
    "            if word.startswith(topic) or topic.startswith(word):\n",
    "                words_to_remove.add(word)\n",
    "    \n",
    "    print(words_to_remove)\n",
    "    unique_words = (unique_words - words_to_remove).union(set(topics))\n",
    "    for word in unique_words:\n",
    "        semantically_unique_words.add(lemmatizer.lemmatize(word))\n",
    "    print(len(semantically_unique_words))\n",
    "    sem_dist = (len(semantically_unique_words)) / total_items\n",
    "    print(\"====DISTINCTIVENESS====\")\n",
    "    print(f\"\\t<SUM>: {distinctiveness}\")\n",
    "    print(f\"\\t<SEMANTICALLY DISTINCT>: {sem_dist}\")\n",
    "    return distinctiveness, sem_dist\n",
    "\n",
    "with open('./results/pmis/run-2022-07-06-10-22/local-0.7-global-0.3-rho-0.5.json', 'r') as f:\n",
    "    res = json.load(f)\n",
    "word_set = res['ensemble_score_bert-local-scratch-25000']['word_set']\n",
    "compute_distinctiveness(word_set)"
   ]
  },
  {
   "cell_type": "code",
   "execution_count": null,
   "metadata": {
    "collapsed": false,
    "pycharm": {
     "name": "#%%\n"
    }
   },
   "outputs": [],
   "source": [
    "cooccur['finance', 'banking']"
   ]
  },
  {
   "cell_type": "code",
   "execution_count": null,
   "metadata": {
    "collapsed": false,
    "pycharm": {
     "name": "#%%\n"
    }
   },
   "outputs": [],
   "source": [
    "cooccur.loc['finance','finance']\n",
    "cooccur.to_csv('./data/vocab/cooccurence_matrix_quick.csv')"
   ]
  },
  {
   "cell_type": "code",
   "execution_count": null,
   "metadata": {
    "collapsed": false,
    "pycharm": {
     "name": "#%%\n"
    }
   },
   "outputs": [],
   "source": [
    "cooccur_new.loc['finance', 'finance']\n",
    "cooccur_new.to_csv('./data/vocab/cooccurence_matrix.csv')"
   ]
  },
  {
   "cell_type": "markdown",
   "metadata": {
    "collapsed": false,
    "pycharm": {
     "name": "#%% md\n"
    }
   },
   "source": [
    "# Build PMI"
   ]
  },
  {
   "cell_type": "code",
   "execution_count": null,
   "metadata": {
    "collapsed": false,
    "pycharm": {
     "name": "#%%\n"
    }
   },
   "outputs": [],
   "source": [
    "import numpy as np\n",
    "import pandas as pd\n",
    "cooccur_mat = pd.read_csv('./data/vocab/cooccurence_matrix-agnews.csv', index_col=0)\n"
   ]
  },
  {
   "cell_type": "code",
   "execution_count": null,
   "metadata": {
    "collapsed": false,
    "pycharm": {
     "name": "#%%\n"
    }
   },
   "outputs": [],
   "source": [
    "scores_df = pd.read_csv(\n",
    "    \"results/ensemble/ensemble_score_bert-pretrained_2022-07-03-13-12.csv\", index_col='_vocab')\n",
    "SEEDS = ['finance', 'sports', 'medicine', 'technology']\n",
    "res = {}\n",
    "for topic in SEEDS:\n",
    "    res[topic] = list(scores_df[topic].sort_values(ascending=False).head(5).index)\n",
    "res"
   ]
  },
  {
   "cell_type": "code",
   "execution_count": null,
   "metadata": {
    "collapsed": false,
    "pycharm": {
     "name": "#%%\n"
    }
   },
   "outputs": [],
   "source": [
    "def prob_word(word, mat):\n",
    "    return np.sum(mat[word]) / np.sum(mat.to_numpy())\n",
    "def prob_cooccur(a, b, mat):\n",
    "    return mat.loc[a, b] / np.sum(mat.to_numpy())\n",
    "def pmi(a, b, mat):\n",
    "    prob_a=prob_word(a, mat)\n",
    "    prob_b=prob_word(b, mat)\n",
    "    prob_ab_cooccur = prob_cooccur(a,b, mat)\n",
    "    return prob_ab_cooccur / (prob_a * prob_b)\n",
    "pmis = {}"
   ]
  },
  {
   "cell_type": "code",
   "execution_count": null,
   "metadata": {
    "collapsed": false,
    "pycharm": {
     "name": "#%%\n"
    }
   },
   "outputs": [],
   "source": [
    "pmis = {}\n",
    "for topic in SEEDS:\n",
    "    pmis[topic] = np.sum([pmi(word, topic, cooccur_mat) for word in res[topic]])\n",
    "pmis"
   ]
  },
  {
   "cell_type": "code",
   "execution_count": null,
   "metadata": {
    "collapsed": false,
    "pycharm": {
     "name": "#%%\n"
    }
   },
   "outputs": [],
   "source": [
    "cooccur_mat.loc['medicine', 'pathology']"
   ]
  },
  {
   "cell_type": "code",
   "execution_count": 4,
   "metadata": {
    "pycharm": {
     "name": "#%%\n"
    }
   },
   "outputs": [],
   "source": [
    "import pandas as pd\n",
    "\n",
    "local_emb_vocab_df = pd.read_csv('./results/CatE/emb_seeds_w.txt', sep=' ', skiprows=[0], index_col=0, header=None)\n",
    "local_emb_vocab_df.dropna(axis=1, inplace=True)\n",
    "\n",
    "local_emb_topic_df = pd.read_csv('./results/CatE/emb_seeds_t.txt', sep=' ', skiprows=[0], index_col=0, header=None)\n",
    "local_emb_topic_df.dropna(axis=1, inplace=True)"
   ]
  },
  {
   "cell_type": "code",
   "execution_count": 43,
   "metadata": {
    "pycharm": {
     "name": "#%%\n"
    }
   },
   "outputs": [
    {
     "data": {
      "application/vnd.jupyter.widget-view+json": {
       "model_id": "faace728ad9d41199d3d786c18a24e46",
       "version_major": 2,
       "version_minor": 0
      },
      "text/plain": [
       "  0%|          | 0/25876 [00:00<?, ?it/s]"
      ]
     },
     "metadata": {},
     "output_type": "display_data"
    }
   ],
   "source": [
    "def compute_vocab_cos_similarity(emb):\n",
    "    out_shape = (emb.shape[0], emb.shape[0])\n",
    "    df = pd.DataFrame(np.zeros((out_shape)), index=emb.index, columns=emb.index)\n",
    "    for word in tqdm(emb.index):\n",
    "        topic_emb = emb.loc[word, :]\n",
    "        res_row = cos_distance_batch(topic_emb, emb)\n",
    "        df.loc[word, :] = res_row\n",
    "    return df\n",
    "res = compute_vocab_cos_similarity(local_emb_vocab_df)"
   ]
  },
  {
   "cell_type": "code",
   "execution_count": 44,
   "metadata": {
    "pycharm": {
     "name": "#%%\n"
    }
   },
   "outputs": [
    {
     "data": {
      "text/plain": [
       "0.5662511389486806"
      ]
     },
     "execution_count": 44,
     "metadata": {},
     "output_type": "execute_result"
    }
   ],
   "source": [
    "res.loc['accounting', 'unumprovident']"
   ]
  },
  {
   "cell_type": "code",
   "execution_count": 50,
   "metadata": {
    "pycharm": {
     "name": "#%%\n"
    }
   },
   "outputs": [
    {
     "data": {
      "text/plain": [
       "0.33416083167506283"
      ]
     },
     "execution_count": 50,
     "metadata": {},
     "output_type": "execute_result"
    }
   ],
   "source": [
    "cosine(local_emb_vocab_df.loc['accounting', :], local_emb_topic_df.loc['accounting', :])"
   ]
  },
  {
   "cell_type": "markdown",
   "metadata": {
    "pycharm": {
     "name": "#%% md\n"
    }
   },
   "source": [
    "# Compute emsemble ranking [CatE]"
   ]
  },
  {
   "cell_type": "code",
   "execution_count": 13,
   "metadata": {
    "pycharm": {
     "name": "#%%\n"
    }
   },
   "outputs": [],
   "source": [
    "import pandas as pd\n",
    "import numpy as np\n",
    "from sklearn.preprocessing import MinMaxScaler\n",
    "global_cos_df = pd.read_csv('./results/global_cos_similarity.csv', index_col=0)\n",
    "local_cos_df = pd.read_csv('./results/cate_local_embeddings.csv', index_col=0)\n",
    "# min_max_scalar\n"
   ]
  },
  {
   "cell_type": "code",
   "execution_count": 14,
   "metadata": {
    "pycharm": {
     "name": "#%%\n"
    }
   },
   "outputs": [],
   "source": [
    "def ensemble_ranking(score_g, score_l, rho):\n",
    "    exponent = 1 / rho\n",
    "    base = 0.5 * np.power(1/score_g, rho) + 0.5 * np.power(1/score_l, rho) \n",
    "    return 1/np.power(base, exponent)\n",
    "\n",
    "def scale_data(data):\n",
    "    scaler = MinMaxScaler()\n",
    "    return scaler.fit_transform(data)\n",
    "\n",
    "def compute_vocab_ensemble_rankings(score_l_df, score_g_df, vocab, rho=1): \n",
    "    raw = np.zeros((len(vocab), score_l_df.shape[1])).astype(np.double)\n",
    "    res = pd.DataFrame(raw, index=vocab, columns=score_g_df.columns)\n",
    "    for topic_idx in range(score_l_df.shape[1]):\n",
    "        score_l = score_l_df.loc[vocab, score_l_df.columns[topic_idx]]\n",
    "        score_g = score_g_df.loc[vocab, score_g_df.columns[topic_idx]]\n",
    "        res.iloc[:, topic_idx] = ensemble_ranking(score_l, score_g, rho)\n",
    "    return res\n",
    "s_global_cos_df = scale_data(global_cos_df)\n",
    "local_cos_df.loc[:, :] = scale_data(local_cos_df)\n",
    "global_cos_df.loc[:, :] = scale_data(global_cos_df)\n",
    "res = compute_vocab_ensemble_rankings(local_cos_df, global_cos_df, local_cos_df.index)\n",
    "res['finance'].sort_values(ascending=False)\n",
    "res.to_csv('./results/ensemble/cate_ensemble_rankings.csv') "
   ]
  },
  {
   "cell_type": "markdown",
   "metadata": {
    "pycharm": {
     "name": "#%% md\n"
    }
   },
   "source": [
    "# Compute emsemble ranking [BERT-pretrained]"
   ]
  },
  {
   "cell_type": "code",
   "execution_count": 9,
   "metadata": {
    "pycharm": {
     "name": "#%%\n"
    }
   },
   "outputs": [],
   "source": [
    "import pandas as pd\n",
    "import numpy as np"
   ]
  },
  {
   "cell_type": "code",
   "execution_count": 24,
   "metadata": {
    "pycharm": {
     "name": "#%%\n"
    }
   },
   "outputs": [],
   "source": [
    "global_cos_df = pd.read_csv('./results/global_cos_similarities.csv', index_col=0)\n",
    "local_cos_df = pd.read_csv('./results/bert/bert-pretrained.csv', index_col=0)"
   ]
  },
  {
   "cell_type": "code",
   "execution_count": 28,
   "metadata": {
    "pycharm": {
     "name": "#%%\n"
    }
   },
   "outputs": [
    {
     "data": {
      "text/plain": [
       "_vocab\n",
       "finance       1.000000\n",
       "banking       0.768596\n",
       "securities    0.746399\n",
       "financing     0.737215\n",
       "finances      0.736829\n",
       "                ...   \n",
       "olof          0.089758\n",
       "indah         0.088084\n",
       "obasanjo      0.086977\n",
       "morten        0.083190\n",
       "winky         0.068860\n",
       "Name: finance, Length: 25877, dtype: float64"
      ]
     },
     "execution_count": 28,
     "metadata": {},
     "output_type": "execute_result"
    }
   ],
   "source": [
    "def ensemble_ranking(score_g, score_l, rho):\n",
    "    exponent = 1 / rho\n",
    "    base = 0.4 * np.power(1/score_g, rho) + 0.6 * np.power(1/score_l, rho) \n",
    "    return 1/np.power(base, exponent)\n",
    "\n",
    "def compute_vocab_ensemble_rankings(score_l_df, score_g_df, vocab, rho=0.5): \n",
    "    raw = np.zeros((len(vocab), score_l_df.shape[1])).astype(np.double)\n",
    "    res = pd.DataFrame(raw, index=vocab, columns=score_g_df.columns)\n",
    "    for topic_idx in range(score_l_df.shape[1]):\n",
    "        score_l = score_l_df.loc[vocab, score_l_df.columns[topic_idx]]\n",
    "        score_g = score_g_df.loc[vocab, score_g_df.columns[topic_idx]]\n",
    "        res.iloc[:, topic_idx] = ensemble_ranking(score_l, score_g, rho)\n",
    "    return res\n",
    "res = compute_vocab_ensemble_rankings(global_cos_df, local_cos_df, local_cos_df.index)\n",
    "res['finance'].sort_values(ascending=False)\n"
   ]
  },
  {
   "cell_type": "markdown",
   "metadata": {
    "pycharm": {
     "name": "#%% md\n"
    }
   },
   "source": [
    "# Build occurance matrix"
   ]
  },
  {
   "cell_type": "code",
   "execution_count": 3,
   "metadata": {
    "pycharm": {
     "name": "#%%\n"
    }
   },
   "outputs": [
    {
     "data": {
      "application/vnd.jupyter.widget-view+json": {
       "model_id": "1441c0e41334468795028d53c547df23",
       "version_major": 2,
       "version_minor": 0
      },
      "text/plain": [
       "  0%|          | 0/127600 [00:00<?, ?it/s]"
      ]
     },
     "metadata": {},
     "output_type": "display_data"
    }
   ],
   "source": [
    "import pickle\n",
    "import pandas as pd\n",
    "import numpy as np \n",
    "from tqdm.auto import tqdm\n",
    "with open('./data/vocab/global_vocab_no_lemmatize.pkl', 'rb') as f:\n",
    "    vocab = pickle.load(f)\n",
    "data = np.zeros((len(vocab), len(vocab)))\n",
    "cooccur = pd.DataFrame(columns=vocab.keys(), index=vocab.keys(), data=data)\n",
    "with open('./data/content_cleaned.txt') as f:\n",
    "    lines =  f.readlines()\n",
    "    for line in tqdm(lines):\n",
    "        words = [word for word in line.split(' ') if word in vocab.keys()]\n",
    "        for word_x in words: \n",
    "            for word_y in words:\n",
    "                if word_x != word_y:\n",
    "                    cooccur.loc[word_x, word_y] += 1\n",
    "\n"
   ]
  },
  {
   "cell_type": "code",
   "execution_count": null,
   "metadata": {
    "pycharm": {
     "name": "#%%\n"
    }
   },
   "outputs": [],
   "source": []
  },
  {
   "cell_type": "code",
   "execution_count": 15,
   "metadata": {
    "pycharm": {
     "name": "#%%\n"
    }
   },
   "outputs": [
    {
     "ename": "KeyError",
     "evalue": "('finance', 'banking')",
     "output_type": "error",
     "traceback": [
      "\u001b[0;31m---------------------------------------------------------------------------\u001b[0m",
      "\u001b[0;31mKeyError\u001b[0m                                  Traceback (most recent call last)",
      "File \u001b[0;32m~/miniconda3/envs/honours/lib/python3.8/site-packages/pandas/core/indexes/base.py:3621\u001b[0m, in \u001b[0;36mIndex.get_loc\u001b[0;34m(self, key, method, tolerance)\u001b[0m\n\u001b[1;32m   3620\u001b[0m \u001b[39mtry\u001b[39;00m:\n\u001b[0;32m-> 3621\u001b[0m     \u001b[39mreturn\u001b[39;00m \u001b[39mself\u001b[39;49m\u001b[39m.\u001b[39;49m_engine\u001b[39m.\u001b[39;49mget_loc(casted_key)\n\u001b[1;32m   3622\u001b[0m \u001b[39mexcept\u001b[39;00m \u001b[39mKeyError\u001b[39;00m \u001b[39mas\u001b[39;00m err:\n",
      "File \u001b[0;32m~/miniconda3/envs/honours/lib/python3.8/site-packages/pandas/_libs/index.pyx:136\u001b[0m, in \u001b[0;36mpandas._libs.index.IndexEngine.get_loc\u001b[0;34m()\u001b[0m\n",
      "File \u001b[0;32m~/miniconda3/envs/honours/lib/python3.8/site-packages/pandas/_libs/index.pyx:163\u001b[0m, in \u001b[0;36mpandas._libs.index.IndexEngine.get_loc\u001b[0;34m()\u001b[0m\n",
      "File \u001b[0;32mpandas/_libs/hashtable_class_helper.pxi:5198\u001b[0m, in \u001b[0;36mpandas._libs.hashtable.PyObjectHashTable.get_item\u001b[0;34m()\u001b[0m\n",
      "File \u001b[0;32mpandas/_libs/hashtable_class_helper.pxi:5206\u001b[0m, in \u001b[0;36mpandas._libs.hashtable.PyObjectHashTable.get_item\u001b[0;34m()\u001b[0m\n",
      "\u001b[0;31mKeyError\u001b[0m: ('finance', 'banking')",
      "\nThe above exception was the direct cause of the following exception:\n",
      "\u001b[0;31mKeyError\u001b[0m                                  Traceback (most recent call last)",
      "\u001b[1;32m/home/alexzhang/code/github.com/zhangchi0104/honours-sgtm/experiment.ipynb Cell 29'\u001b[0m in \u001b[0;36m<cell line: 1>\u001b[0;34m()\u001b[0m\n\u001b[0;32m----> <a href='vscode-notebook-cell://ssh-remote%2Bhome-desktop/home/alexzhang/code/github.com/zhangchi0104/honours-sgtm/experiment.ipynb#ch0000028vscode-remote?line=0'>1</a>\u001b[0m cooccur[\u001b[39m'\u001b[39;49m\u001b[39mfinance\u001b[39;49m\u001b[39m'\u001b[39;49m, \u001b[39m'\u001b[39;49m\u001b[39mbanking\u001b[39;49m\u001b[39m'\u001b[39;49m]\n",
      "File \u001b[0;32m~/miniconda3/envs/honours/lib/python3.8/site-packages/pandas/core/frame.py:3505\u001b[0m, in \u001b[0;36mDataFrame.__getitem__\u001b[0;34m(self, key)\u001b[0m\n\u001b[1;32m   3503\u001b[0m \u001b[39mif\u001b[39;00m \u001b[39mself\u001b[39m\u001b[39m.\u001b[39mcolumns\u001b[39m.\u001b[39mnlevels \u001b[39m>\u001b[39m \u001b[39m1\u001b[39m:\n\u001b[1;32m   3504\u001b[0m     \u001b[39mreturn\u001b[39;00m \u001b[39mself\u001b[39m\u001b[39m.\u001b[39m_getitem_multilevel(key)\n\u001b[0;32m-> 3505\u001b[0m indexer \u001b[39m=\u001b[39m \u001b[39mself\u001b[39;49m\u001b[39m.\u001b[39;49mcolumns\u001b[39m.\u001b[39;49mget_loc(key)\n\u001b[1;32m   3506\u001b[0m \u001b[39mif\u001b[39;00m is_integer(indexer):\n\u001b[1;32m   3507\u001b[0m     indexer \u001b[39m=\u001b[39m [indexer]\n",
      "File \u001b[0;32m~/miniconda3/envs/honours/lib/python3.8/site-packages/pandas/core/indexes/base.py:3623\u001b[0m, in \u001b[0;36mIndex.get_loc\u001b[0;34m(self, key, method, tolerance)\u001b[0m\n\u001b[1;32m   3621\u001b[0m     \u001b[39mreturn\u001b[39;00m \u001b[39mself\u001b[39m\u001b[39m.\u001b[39m_engine\u001b[39m.\u001b[39mget_loc(casted_key)\n\u001b[1;32m   3622\u001b[0m \u001b[39mexcept\u001b[39;00m \u001b[39mKeyError\u001b[39;00m \u001b[39mas\u001b[39;00m err:\n\u001b[0;32m-> 3623\u001b[0m     \u001b[39mraise\u001b[39;00m \u001b[39mKeyError\u001b[39;00m(key) \u001b[39mfrom\u001b[39;00m \u001b[39merr\u001b[39;00m\n\u001b[1;32m   3624\u001b[0m \u001b[39mexcept\u001b[39;00m \u001b[39mTypeError\u001b[39;00m:\n\u001b[1;32m   3625\u001b[0m     \u001b[39m# If we have a listlike key, _check_indexing_error will raise\u001b[39;00m\n\u001b[1;32m   3626\u001b[0m     \u001b[39m#  InvalidIndexError. Otherwise we fall through and re-raise\u001b[39;00m\n\u001b[1;32m   3627\u001b[0m     \u001b[39m#  the TypeError.\u001b[39;00m\n\u001b[1;32m   3628\u001b[0m     \u001b[39mself\u001b[39m\u001b[39m.\u001b[39m_check_indexing_error(key)\n",
      "\u001b[0;31mKeyError\u001b[0m: ('finance', 'banking')"
     ]
    }
   ],
   "source": [
    "cooccur['finance', 'banking']"
   ]
  },
  {
   "cell_type": "code",
   "execution_count": 32,
   "metadata": {
    "pycharm": {
     "name": "#%%\n"
    }
   },
   "outputs": [],
   "source": [
    "cooccur.loc['finance','finance']\n",
    "cooccur.to_csv('./data/vocab/cooccurence_matrix_quick.csv')"
   ]
  },
  {
   "cell_type": "code",
   "execution_count": 33,
   "metadata": {
    "pycharm": {
     "name": "#%%\n"
    }
   },
   "outputs": [],
   "source": [
    "cooccur_new.loc['finance', 'finance']\n",
    "cooccur_new.to_csv('./data/vocab/cooccurence_matrix.csv')"
   ]
  },
  {
   "cell_type": "markdown",
   "metadata": {
    "pycharm": {
     "name": "#%% md\n"
    }
   },
   "source": [
    "# Build PMI"
   ]
  },
  {
   "cell_type": "code",
   "execution_count": 7,
   "metadata": {
    "pycharm": {
     "name": "#%%\n"
    }
   },
   "outputs": [
    {
     "data": {
      "text/plain": [
       "0.0"
      ]
     },
     "execution_count": 7,
     "metadata": {},
     "output_type": "execute_result"
    }
   ],
   "source": [
    "cooccur_mat.loc['medicine', 'pathology']"
   ]
  },
  {
   "cell_type": "code",
   "execution_count": 1,
   "metadata": {},
   "outputs": [
    {
     "name": "stdout",
     "output_type": "stream",
     "text": [
      "SUMMARY\n",
      "================================================================================\n",
      "/home/alexzhang/code/github.com/zhangchi0104/honours-sgtm/results/global_cos_similarities.csv\n",
      "====WORD SET====\n",
      "\tfinance:['finance', 'accounting', 'logistics', 'marketing', 'banking']\n",
      "\tmedicine:['medicine', 'dentistry', 'pharmacy', 'pathology', 'diseases']\n",
      "\tsports:['sports', 'sport', 'baseball', 'basketball', 'athletics']\n",
      "\ttechnology:['technology', 'technologies', 'engineering', 'robotics', 'telecommunications']\n",
      "====PMIS====\n",
      "\tmedicine:7.325208883416925\n",
      "\tfinance:4.508662894529083\n",
      "\tsports:13.960355465302866\n",
      "\ttechnology:12.238532706076798\n",
      "\t<SUM>: 9.508189987331418\n",
      "====NPMIS====\n",
      "\tfinance:0.33152185315317384\n",
      "\tsports:0.9035871188702356\n",
      "\ttechnology:0.8103397350645716\n",
      "\tmedicine:0.4299254732180351\n",
      "\t<SUM>: 0.618843545076504\n",
      "====DISTINCTIVENESS====\n",
      "\t<SUM>: 1.0\n",
      "\t<SEMANTICALLY DISTINCT>: 0.9\n",
      "/home/alexzhang/code/github.com/zhangchi0104/honours-sgtm/results/cate_cos_similarities.csv\n",
      "====WORD SET====\n",
      "\taccounting:['unumprovident', 'cognos', 'unitedhealth', 'investcorp', 'kpmg']\n",
      "\tpharmacy:['pathology', 'dentistry', 'medical', 'pharmacy', 'orthopedic']\n",
      "\tbaseball:['lacrosse', 'basketball', 'bruins', 'baseball', 'volleyball']\n",
      "\trobotics:['telecommunication', 'communication', 'robotics', 'ims', 'mobile']\n",
      "====PMIS====\n",
      "\trobotics:11.525375015926219\n",
      "\tpharmacy:9.266061718432974\n",
      "\tbaseball:0\n",
      "\taccounting:0\n",
      "\t<SUM>: 5.197859183589799\n",
      "====NPMIS====\n",
      "\tbaseball:0\n",
      "\trobotics:0.7548972027034139\n",
      "\taccounting:0\n",
      "\tpharmacy:0.5438365011246706\n",
      "\t<SUM>: 0.32468342595702115\n",
      "====DISTINCTIVENESS====\n",
      "\t<SUM>: 1.0\n",
      "\t<SEMANTICALLY DISTINCT>: 1.05\n"
     ]
    }
   ],
   "source": [
    "from pathlib import Path\n",
    "from scripts.evaluation import evaluation\n",
    "import pandas as pd\n",
    "\n",
    "PROJECT_ROOT = Path(\n",
    "    \"~/code/github.com/zhangchi0104/honours-sgtm\").expanduser().absolute()\n",
    "CONFIG = {\n",
    "    # local_weight, global_weight, rho\n",
    "    \"specs\": [\n",
    "        # changes in weights\n",
    "        (0.3, 0.7, 0.5),\n",
    "        (0.4, 0.6, 0.5),\n",
    "        (0.5, 0.5, 0.5),\n",
    "        (0.6, 0.4, 0.5),\n",
    "        (0.7, 0.3, 0.5),\n",
    "        # changes in rho\n",
    "        (0.5, 0.5, 0.1),\n",
    "        (0.5, 0.5, 0.3),\n",
    "        (0.5, 0.5, 0.7),\n",
    "        (0.5, 0.5, 0.9),\n",
    "    ],\n",
    "    \"inputs\": [\n",
    "        *(PROJECT_ROOT / 'results' / 'bert').glob(\"*\"),\n",
    "        (PROJECT_ROOT / 'results' / 'CatE' / '2022-07-03-09-36' /\n",
    "         'cate-cos-similarities.csv')\n",
    "    ],\n",
    "    \"baselines\": [\n",
    "        PROJECT_ROOT / 'results' / 'global_cos_similarities.csv',\n",
    "        PROJECT_ROOT / 'results' / 'cate_cos_similarities.csv'\n",
    "    ],\n",
    "    \"global_score\":\n",
    "    PROJECT_ROOT / 'results' / 'global_cos_similarities.csv',\n",
    "    \"n_words\":\n",
    "    10\n",
    "}\n",
    "cooccur_mat = pd.read_csv(PROJECT_ROOT / 'data' / 'vocab' /\n",
    "                          'cooccurence_matrix-agnews.csv',\n",
    "                          index_col=0)\n",
    "evaluation([str(p) for p in CONFIG['baselines']],\n",
    "           cooccur_mat,\n",
    "           out=PROJECT_ROOT / 'results' / 'evaluations' / 'baselines.json')\n"
   ]
  },
  {
   "cell_type": "markdown",
   "metadata": {
    "pycharm": {
     "name": "#%%\n"
    }
   },
   "source": [
    "# Create Plots"
   ]
  },
  {
   "cell_type": "code",
   "execution_count": 2,
   "metadata": {},
   "outputs": [
    {
     "name": "stdout",
     "output_type": "stream",
     "text": [
      "(0.1, 0.9, 0.5)\n",
      "(0.2, 0.8, 0.5)\n",
      "(0.3, 0.7, 0.5)\n",
      "(0.4, 0.6, 0.5)\n",
      "(0.5, 0.5, 0.5)\n",
      "(0.6, 0.4, 0.5)\n",
      "(0.7, 0.3, 0.5)\n",
      "(0.8, 0.2, 0.5)\n",
      "(0.9, 0.1, 0.5)\n",
      "(0.5, 0.5, 0.1)\n",
      "(0.5, 0.5, 0.3)\n",
      "(0.5, 0.5, 0.5)\n",
      "(0.5, 0.5, 0.7)\n",
      "(0.5, 0.5, 0.9)\n"
     ]
    }
   ],
   "source": [
    "import json\n",
    "from matplotlib import pyplot as plt\n",
    "from pathlib import Path\n",
    "import json\n",
    "COMPARE_GROUPS = [[(0.1, 0.9, 0.5), (0.2, 0.8, 0.5), (0.3, 0.7, 0.5),\n",
    "                   (0.4, 0.6, 0.5), (0.5, 0.5, 0.5), (0.6, 0.4, 0.5),\n",
    "                   (0.7, 0.3, 0.5), (0.8, 0.2, 0.5), (0.9, 0.1, 0.5),],\n",
    "                  [\n",
    "                      (0.5, 0.5, 0.1),\n",
    "                      (0.5, 0.5, 0.3),\n",
    "                      (0.5, 0.5, 0.5),\n",
    "                      (0.5, 0.5, 0.7),\n",
    "                      (0.5, 0.5, 0.9),\n",
    "                  ]]\n",
    "def load_results(results_dir: Path, baseline_path: Path):\n",
    "    files = results_dir.glob(\"*.json\")\n",
    "    results = {}\n",
    "    baseline_results = {}\n",
    "    for file_path in files:\n",
    "        data = None\n",
    "        with open(file_path, 'r') as f:\n",
    "            data = json.load(f)\n",
    "        basename = file_path.name[:-5]\n",
    "        results[basename] = data\n",
    "    with open(baseline_path, 'r') as f:\n",
    "        data = json.load(f)\n",
    "        for key, val in data.items():\n",
    "            baseline_results[key] = val\n",
    "    return results, baseline_results\n",
    "\n",
    "def parse_results(compare_groups, results):\n",
    "    pmis = []\n",
    "    npmis = []\n",
    "    dists = []\n",
    "    sem_dists = []\n",
    "    for group in compare_groups:\n",
    "        grp_pmis = {\n",
    "            'ensemble_score_bert-pretrained': [],\n",
    "            'ensemble_score_bert-local-scratch-30522': [],\n",
    "            'ensemble_score_bert-local-scratch-25000': [],\n",
    "            'ensemble_score_cate-cos-similarities': []\n",
    "        }\n",
    "        grp_npmis = {\n",
    "            'ensemble_score_bert-pretrained': [],\n",
    "            'ensemble_score_bert-local-scratch-30522': [],\n",
    "            'ensemble_score_bert-local-scratch-25000': [],\n",
    "            'ensemble_score_cate-cos-similarities': []\n",
    "        }\n",
    "        grp_dists = {\n",
    "            'ensemble_score_bert-pretrained': [],\n",
    "            'ensemble_score_bert-local-scratch-30522': [],\n",
    "            'ensemble_score_bert-local-scratch-25000': [],\n",
    "            'ensemble_score_cate-cos-similarities': []\n",
    "        }\n",
    "        grp_sem_dists = {\n",
    "            'ensemble_score_bert-pretrained': [],\n",
    "            'ensemble_score_bert-local-scratch-30522': [],\n",
    "            'ensemble_score_bert-local-scratch-25000': [],\n",
    "            'ensemble_score_cate-cos-similarities': []\n",
    "        }\n",
    "        for spec in group:\n",
    "            print(spec)\n",
    "            local_w, global_w, rho = spec\n",
    "            i = f\"local-{local_w}-global-{global_w}-rho-{rho}\"\n",
    "            for key, val in results[i].items():\n",
    "                grp_pmis[key].append(val['pmi'])\n",
    "                grp_npmis[key].append(val['npmi'])\n",
    "                grp_dists[key].append(val['distinctiveness'])\n",
    "                grp_sem_dists[key].append(val['sem_distinctiveness'])\n",
    "\n",
    "        pmis.append(grp_pmis)\n",
    "        npmis.append(grp_npmis)\n",
    "        dists.append(grp_dists)\n",
    "        sem_dists.append(grp_sem_dists)\n",
    "    return pmis, npmis, dists, sem_dists\n",
    "results, base_results = load_results(Path('./results/evaluations/cate_in_vocab/'), './results/evaluations/baselines.json')\n",
    "\n",
    "pmis, npmis, dists, sem_dists = parse_results(COMPARE_GROUPS, results)\n"
   ]
  },
  {
   "cell_type": "code",
   "execution_count": 4,
   "metadata": {},
   "outputs": [
    {
     "data": {
      "image/png": "[encoded data removed]",
      "text/plain": [
       "<Figure size 432x288 with 1 Axes>"
      ]
     },
     "metadata": {
      "needs_background": "light"
     },
     "output_type": "display_data"
    }
   ],
   "source": [
    "plt.figure()\n",
    "plt.plot([0.1, 0.2, 0.3, 0.4, 0.5, 0.6, 0.7, 0.8, 0.9], pmis[0]['ensemble_score_bert-pretrained'], label='bert-pretrained')\n",
    "plt.plot([0.1, 0.2, 0.3, 0.4, 0.5, 0.6, 0.7, 0.8, 0.9],\n",
    "         pmis[0]['ensemble_score_bert-local-scratch-30522'],\n",
    "         label='bert-local-scratch-30522')\n",
    "plt.plot([0.1, 0.2, 0.3, 0.4, 0.5, 0.6, 0.7, 0.8, 0.9],\n",
    "         pmis[0]['ensemble_score_bert-local-scratch-25000'],\n",
    "         label='bert-local-scratch-25000')\n",
    "plt.plot([0.1, 0.2, 0.3, 0.4, 0.5, 0.6, 0.7, 0.8, 0.9],\n",
    "         pmis[0]['ensemble_score_cate-cos-similarities'],\n",
    "         label='cate-cos-similarities')\n",
    "plt.legend()\n",
    "plt.show()\n"
   ]
  },
  {
   "cell_type": "code",
   "execution_count": 14,
   "metadata": {},
   "outputs": [
    {
     "data": {
      "image/png": "[encoded data removed]",
      "text/plain": [
       "<Figure size 432x288 with 1 Axes>"
      ]
     },
     "metadata": {
      "needs_background": "light"
     },
     "output_type": "display_data"
    }
   ],
   "source": [
    "plt.figure()\n",
    "plt.plot([0.2, 0.3, 0.4, 0.5, 0.6, 0.7, 0.8],\n",
    "         npmis[0]['ensemble_score_bert-pretrained'],\n",
    "         label='bert-pretrained')\n",
    "plt.plot([0.2, 0.3, 0.4, 0.5, 0.6, 0.7, 0.8],\n",
    "         npmis[0]['ensemble_score_bert-local-scratch-30522'],\n",
    "         label='bert-local-scratch-30522')\n",
    "plt.plot([0.2, 0.3, 0.4, 0.5, 0.6, 0.7, 0.8],\n",
    "         npmis[0]['ensemble_score_bert-local-scratch-25000'],\n",
    "         label='bert-local-scratch-25000')\n",
    "plt.plot([0.2, 0.3, 0.4, 0.5, 0.6, 0.7, 0.8],\n",
    "         npmis[0]['ensemble_score_cate-cos-similarities'],\n",
    "         label='cate-cos-similarities')\n",
    "plt.legend()\n",
    "plt.show()\n"
   ]
  },
  {
   "cell_type": "code",
   "execution_count": 12,
   "metadata": {},
   "outputs": [
    {
     "data": {
      "image/png": "[encoded data removed]",
      "text/plain": [
       "<Figure size 432x288 with 1 Axes>"
      ]
     },
     "metadata": {
      "needs_background": "light"
     },
     "output_type": "display_data"
    }
   ],
   "source": [
    "plt.figure()\n",
    "plt.plot([0.2, 0.3, 0.4, 0.5, 0.6, 0.7, 0.8],\n",
    "         sem_dists[0]['ensemble_score_bert-pretrained'],\n",
    "         label='bert-pretrained')\n",
    "plt.plot([0.2, 0.3, 0.4, 0.5, 0.6, 0.7, 0.8],\n",
    "         sem_dists[0]['ensemble_score_bert-local-scratch-30522'],\n",
    "         label='bert-local-scratch-30522')\n",
    "plt.plot([0.2, 0.3, 0.4, 0.5, 0.6, 0.7, 0.8],\n",
    "         sem_dists[0]['ensemble_score_bert-local-scratch-25000'],\n",
    "         label='bert-local-scratch-25000')\n",
    "plt.plot([0.2, 0.3, 0.4, 0.5, 0.6, 0.7, 0.8],\n",
    "         sem_dists[0]['ensemble_score_cate-cos-similarities'],\n",
    "         label='cate-cos-similarities')\n",
    "plt.legend()\n",
    "plt.show()\n"
   ]
  },
  {
   "cell_type": "code",
   "execution_count": null,
   "metadata": {},
   "outputs": [],
   "source": [
    "plt.figure()\n",
    "plt.plot([0.3, 0.4, 0.5, 0.6, 0.7],\n",
    "         dists[0]['ensemble_score_bert-pretrained'],\n",
    "         label='bert-pretrained')\n",
    "plt.plot([0.3, 0.4, 0.5, 0.6, 0.7],\n",
    "         dists[0]['ensemble_score_bert-local-scratch-30522'],\n",
    "         label='bert-local-scratch-30522')\n",
    "plt.plot([0.3, 0.4, 0.5, 0.6, 0.7],\n",
    "         dists[0]['ensemble_score_bert-local-scratch-25000'],\n",
    "         label='bert-local-scratch-25000')\n",
    "plt.plot([0.3, 0.4, 0.5, 0.6, 0.7],\n",
    "         dists[0]['ensemble_score_cate-cos-similarities'],\n",
    "         label='cate-cos-similarities')\n",
    "plt.legend()\n",
    "plt.show()"
   ]
  },
  {
   "cell_type": "code",
   "execution_count": 56,
   "metadata": {},
   "outputs": [
    {
     "name": "stdout",
     "output_type": "stream",
     "text": [
      "w_g=0.9, w_l=0.1\n",
      "0.7625017139527153\n",
      "w_g=0.8, w_l=0.2\n",
      "0.7269277933085015\n",
      "w_g=0.7, w_l=0.3\n",
      "0.6931710062212096\n",
      "w_g=0.6, w_l=0.4\n",
      "0.6611305640675668\n",
      "w_g=0.5, w_l=0.5\n",
      "0.6307117064380795\n",
      "w_g=0.4, w_l=0.6\n",
      "0.6018253146364971\n",
      "w_g=0.30000000000000004, w_l=0.7\n",
      "0.5743875516084382\n",
      "w_g=0.19999999999999996, w_l=0.8\n",
      "0.5483195263802467\n",
      "w_g=0.09999999999999998, w_l=0.9\n",
      "0.5235469812365003\n"
     ]
    }
   ],
   "source": [
    "l = 0.5\n",
    "g = 0.8\n",
    "import numpy as np\n",
    "def ensemble_ranking(score_g, score_l, rho, weight_global, weight_local):\n",
    "    exponent = 1 / rho\n",
    "    base = weight_global * np.power(\n",
    "        1 / score_g, rho) + weight_local * np.power(1 / score_l, rho)\n",
    "    return 1 / np.power(base, exponent)\n",
    "for i in range(1, 10):\n",
    "    print(f\"w_g={1-i/10}, w_l={i/10}\")\n",
    "    print(ensemble_ranking(g, l,0.1, 1-i/10, i/10))"
   ]
  },
  {
   "cell_type": "code",
   "execution_count": null,
   "metadata": {},
   "outputs": [],
   "source": []
  }
 ],
 "metadata": {
  "kernelspec": {
   "display_name": "Python 3.8.13 ('honours')",
   "language": "python",
   "name": "python3"
  },
  "language_info": {
   "codemirror_mode": {
    "name": "ipython",
    "version": 3
   },
   "file_extension": ".py",
   "mimetype": "text/x-python",
   "name": "python",
   "nbconvert_exporter": "python",
   "pygments_lexer": "ipython3",
   "version": "3.8.13"
  },
  "vscode": {
   "interpreter": {
    "hash": "eea59d2da9fcf6d5a89ffa791376363fdbff07d1b7c37705fe62005135f4eda1"
   }
  }
 },
 "nbformat": 4,
 "nbformat_minor": 2
}
